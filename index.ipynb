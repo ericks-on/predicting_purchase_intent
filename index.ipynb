{
 "cells": [
  {
   "cell_type": "markdown",
   "metadata": {},
   "source": [
    "# Business Understanding\n",
    "\n",
    "Understanding customer purchase intent is crucial for businesses as it allows them to better tailor their strategies, optimize resources, and drive revenue growth. By analyzing the likelihood of a customer making a purchase, businesses can prioritize high-intent customers, focusing marketing efforts and sales tactics on those most likely to convert. This insight helps in personalizing customer experiences, improving product recommendations, and enhancing customer satisfaction."
   ]
  },
  {
   "cell_type": "markdown",
   "metadata": {},
   "source": [
    "## Problem statement \n",
    "The business needs to understand and predict customer purchase intent to better prioritize high-value prospects, optimize marketing strategies, and improve conversion rates. By leveraging machine learning models, the aim is to identify key behaviors and signals of purchase intent in real time and make data-driven predictions that can enhance sales and customer engagement."
   ]
  },
  {
   "cell_type": "markdown",
   "metadata": {},
   "source": [
    "## Business Questions\n",
    "* What behaviours indicate high purchase intend?\n",
    "* Which customer segments have the highest purchase intent and how can they be targeted effectively?\n",
    "* What specific actions increase the likelihood of converting customers with high purchase intend?\n",
    "* Can we develop a machine learning model to accurately predict customer purchase intent in real-time?\n",
    "* How can we segment customers based on their predicted purchase intent to improve marketing effectiveness?\n",
    "* What actions (e.g., personalized offers, follow-up emails) can we take to maximize conversions from customers with high predicted intent?"
   ]
  },
  {
   "cell_type": "markdown",
   "metadata": {},
   "source": [
    "## Business Requirements\n",
    "\n",
    "* Ensure that machine learning models predicting purchase intent do not overlook existing customer relationships or retention efforts.\n",
    "* Keep marketing and acquisition costs in check while leveraging predictive insights.\n",
    "* Ensure data privacy and compliance regulations are followed when collecting and using customer data for predictive modeling."
   ]
  },
  {
   "cell_type": "markdown",
   "metadata": {},
   "source": [
    "## Expected Benefits\n",
    "* Achieve a 20% improvement in conversion rates by focusing on customers with high predicted purchase intent.\n",
    "* Increase the accuracy of customer purchase intent predictions to at least 85%.\n",
    "* Improve marketing ROI by 15% by targeting high-intent customers with personalized campaigns based on machine learning insights.\n",
    "* Reduce customer acquisition costs by prioritizing high-purchase intent leads, predicted through machine learning models."
   ]
  },
  {
   "cell_type": "markdown",
   "metadata": {},
   "source": [
    "## Success Criteria\n",
    "* Accuracy - atleast 85%\n",
    "* Precision, recall and f1_score - atleast 80%"
   ]
  },
  {
   "cell_type": "markdown",
   "metadata": {},
   "source": [
    "# Data Understanding\n",
    "The data is from [Kaggle](https://www.kaggle.com/competitions/22122shop/data)\n",
    "\n",
    "There are 18 variables with 10 quantitative and 7 categorical input features, 500K observations (one row or web session per online user) in a tabular format with the first 50K rows missing the Rev revenue flag (1 for purchase intent and 0 otherwise). The data was collected for the period of 1 year.\n",
    "\n",
    "Features description (from the dataset authors):\n",
    "\n",
    "1. `Administrative (Adm)`, `Informational (Inf)`,` Product Related (Prd)`: \n",
    "    - counts of different page types viewed by the user in that session. Values are derived from the URL information of the pages visited by the user and updated in real time when a user takes an action, e.g. moving from one page to another.\n",
    "2. `Administrative Duration (AdmDur)`, `Informational Duration (InfDur)`, and `Product Related Duration (PrdDur)`: \n",
    "    - total time spent on the page of the specified type.\n",
    "3. `Bounce Rate (BncRt):` \n",
    "    - %visitors who enter the site from that page and then leave (\"bounce\") without triggering any other requests to the analytics server during that session. Measured by Google Analytics\n",
    "4. `Exit Rate (ExtRt)`: \n",
    "    - %visitors that were the last in the session. Calculated as for all pageviews to the page. Measured by Google Analytics.\n",
    "5. `Page Value (PgVal)`: \n",
    "    - average value for a web page that the user visited before completing an e-commerce transaction.\n",
    "6. `Special Day (SpclDay)`: \n",
    "    - closeness of the site visiting time to a specific special day (e.g. Mother’s Day, Valentine's Day) in which the sessions are more likely to be finalized with transaction. The value of this attribute is determined by considering the dynamics of e-commerce such as the duration between the order date and delivery date. For example, for Valentine's day, this value takes a nonzero value between Feb 2 and Feb 12, zero before and after this date unless it is close to another special day, and its maximum value of 1 on Feb 8.\n",
    "7. `Operating system (OS)` of the user's PC\n",
    "8. `Browser (Bsr)`: web user's web browser\n",
    "9. `Region (Rgn) `of the web user\n",
    "10. `Traffic type (TfcTp)`: TBD\n",
    "11. `Visitor type (VstTp)`: Type of visitor\n",
    "12. `Weekend (Wknd)`: whether the page view event took place on weekend\n",
    "13. `Month of the year (Mo)`: the month of the page view event"
   ]
  },
  {
   "cell_type": "code",
   "execution_count": null,
   "metadata": {},
   "outputs": [],
   "source": []
  }
 ],
 "metadata": {
  "language_info": {
   "name": "python"
  }
 },
 "nbformat": 4,
 "nbformat_minor": 2
}

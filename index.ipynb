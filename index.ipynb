{
 "cells": [
  {
   "cell_type": "markdown",
   "metadata": {},
   "source": [
    "# Business Understanding\n",
    "\n",
    "Understanding customer purchase intent is crucial for businesses as it allows them to better tailor their strategies, optimize resources, and drive revenue growth. By analyzing the likelihood of a customer making a purchase, businesses can prioritize high-intent customers, focusing marketing efforts and sales tactics on those most likely to convert. This insight helps in personalizing customer experiences, improving product recommendations, and enhancing customer satisfaction."
   ]
  },
  {
   "cell_type": "markdown",
   "metadata": {},
   "source": [
    "## Problem statement \n",
    "The business needs to understand and predict customer purchase intent to better prioritize high-value prospects, optimize marketing strategies, and improve conversion rates. By leveraging machine learning models, the aim is to identify key behaviors and signals of purchase intent in real time and make data-driven predictions that can enhance sales and customer engagement."
   ]
  },
  {
   "cell_type": "markdown",
   "metadata": {},
   "source": [
    "## Business Questions\n",
    "* What behaviours indicate high purchase intend?\n",
    "* What specific actions increase the likelihood of converting customers with high purchase intend?\n",
    "* Can we develop a machine learning model to accurately predict customer purchase intent in real-time?\n",
    "* What actions (e.g., personalized offers, follow-up emails) can we take to maximize conversions from customers with high predicted intent?"
   ]
  },
  {
   "cell_type": "markdown",
   "metadata": {},
   "source": [
    "## Business Requirements\n",
    "\n",
    "* Ensure that machine learning models predicting purchase intent do not overlook existing customer relationships or retention efforts.\n",
    "* Keep marketing and acquisition costs in check while leveraging predictive insights.\n",
    "* Ensure data privacy and compliance regulations are followed when collecting and using customer data for predictive modeling."
   ]
  },
  {
   "cell_type": "markdown",
   "metadata": {},
   "source": [
    "## Expected Benefits\n",
    "* Achieve a 20% improvement in conversion rates by focusing on customers with high predicted purchase intent.\n",
    "* Increase the accuracy of customer purchase intent predictions to at least 85%.\n",
    "* Improve marketing ROI by 15% by targeting high-intent customers with personalized campaigns based on machine learning insights.\n",
    "* Reduce customer acquisition costs by prioritizing high-purchase intent leads, predicted through machine learning models."
   ]
  },
  {
   "cell_type": "markdown",
   "metadata": {},
   "source": [
    "## Success Criteria\n",
    "* Accuracy - atleast 85%\n",
    "* Precision, recall and f1_score - atleast 85%"
   ]
  },
  {
   "cell_type": "markdown",
   "metadata": {},
   "source": [
    "# Data Understanding\n",
    "The data is from [Kaggle](https://www.kaggle.com/competitions/22122shop/data)\n",
    "\n",
    "There are 18 variables with 10 quantitative and 7 categorical input features, 500K observations (one row or web session per online user) in a tabular format with the first 50K rows missing the Rev revenue flag (1 for purchase intent and 0 otherwise). The data was collected for the period of 1 year.\n",
    "\n",
    "Features description (from the dataset authors):\n",
    "\n",
    "1. `Administrative (Adm)`, `Informational (Inf)`,` Product Related (Prd)`: \n",
    "    - counts of different page types viewed by the user in that session. Values are derived from the URL information of the pages visited by the user and updated in real time when a user takes an action, e.g. moving from one page to another.\n",
    "2. `Administrative Duration (AdmDur)`, `Informational Duration (InfDur)`, and `Product Related Duration (PrdDur)`: \n",
    "    - total time spent on the page of the specified type.\n",
    "3. `Bounce Rate (BncRt):` \n",
    "    - %visitors who enter the site from that page and then leave (\"bounce\") without triggering any other requests to the analytics server during that session. Measured by Google Analytics\n",
    "4. `Exit Rate (ExtRt)`: \n",
    "    - %visitors that were the last in the session. Calculated as for all pageviews to the page. Measured by Google Analytics.\n",
    "5. `Page Value (PgVal)`: \n",
    "    - average value for a web page that the user visited before completing an e-commerce transaction.\n",
    "6. `Special Day (SpclDay)`: \n",
    "    - closeness of the site visiting time to a specific special day (e.g. Mother’s Day, Valentine's Day) in which the sessions are more likely to be finalized with transaction. The value of this attribute is determined by considering the dynamics of e-commerce such as the duration between the order date and delivery date. For example, for Valentine's day, this value takes a nonzero value between Feb 2 and Feb 12, zero before and after this date unless it is close to another special day, and its maximum value of 1 on Feb 8.\n",
    "7. `Operating system (OS)` of the user's PC\n",
    "8. `Browser (Bsr)`: web user's web browser\n",
    "9. `Region (Rgn) `of the web user\n",
    "10. `Traffic type (TfcTp)`: TBD\n",
    "11. `Visitor type (VstTp)`: Type of visitor\n",
    "12. `Weekend (Wknd)`: whether the page view event took place on weekend\n",
    "13. `Month of the year (Mo)`: the month of the page view event"
   ]
  },
  {
   "cell_type": "markdown",
   "metadata": {},
   "source": [
    "# Data preparation"
   ]
  },
  {
   "cell_type": "code",
   "execution_count": 1,
   "metadata": {},
   "outputs": [],
   "source": [
    "# importing modules\n",
    "import pandas as pd\n",
    "import numpy as np\n",
    "import matplotlib.pyplot as plt\n",
    "import seaborn as sns\n",
    "%matplotlib inline"
   ]
  },
  {
   "cell_type": "markdown",
   "metadata": {},
   "source": [
    "# "
   ]
  },
  {
   "cell_type": "code",
   "execution_count": 2,
   "metadata": {},
   "outputs": [
    {
     "data": {
      "text/html": [
       "<div>\n",
       "<style scoped>\n",
       "    .dataframe tbody tr th:only-of-type {\n",
       "        vertical-align: middle;\n",
       "    }\n",
       "\n",
       "    .dataframe tbody tr th {\n",
       "        vertical-align: top;\n",
       "    }\n",
       "\n",
       "    .dataframe thead th {\n",
       "        text-align: right;\n",
       "    }\n",
       "</style>\n",
       "<table border=\"1\" class=\"dataframe\">\n",
       "  <thead>\n",
       "    <tr style=\"text-align: right;\">\n",
       "      <th></th>\n",
       "      <th>Adm</th>\n",
       "      <th>AdmDur</th>\n",
       "      <th>Inf</th>\n",
       "      <th>InfDur</th>\n",
       "      <th>Prd</th>\n",
       "      <th>PrdDur</th>\n",
       "      <th>BncRt</th>\n",
       "      <th>ExtRt</th>\n",
       "      <th>PgVal</th>\n",
       "      <th>SpclDay</th>\n",
       "      <th>Mo</th>\n",
       "      <th>OS</th>\n",
       "      <th>Bsr</th>\n",
       "      <th>Rgn</th>\n",
       "      <th>TfcTp</th>\n",
       "      <th>VstTp</th>\n",
       "      <th>Wkd</th>\n",
       "      <th>Rev</th>\n",
       "    </tr>\n",
       "  </thead>\n",
       "  <tbody>\n",
       "    <tr>\n",
       "      <th>0</th>\n",
       "      <td>0</td>\n",
       "      <td>0.00</td>\n",
       "      <td>0</td>\n",
       "      <td>0.0</td>\n",
       "      <td>18</td>\n",
       "      <td>132.99</td>\n",
       "      <td>0.038211</td>\n",
       "      <td>0.054523</td>\n",
       "      <td>0.000000</td>\n",
       "      <td>0.0</td>\n",
       "      <td>4</td>\n",
       "      <td>3</td>\n",
       "      <td>1</td>\n",
       "      <td>1</td>\n",
       "      <td>2</td>\n",
       "      <td>0</td>\n",
       "      <td>1</td>\n",
       "      <td>NaN</td>\n",
       "    </tr>\n",
       "    <tr>\n",
       "      <th>1</th>\n",
       "      <td>1</td>\n",
       "      <td>0.00</td>\n",
       "      <td>0</td>\n",
       "      <td>0.0</td>\n",
       "      <td>37</td>\n",
       "      <td>1150.20</td>\n",
       "      <td>0.001245</td>\n",
       "      <td>0.030321</td>\n",
       "      <td>0.000000</td>\n",
       "      <td>0.0</td>\n",
       "      <td>11</td>\n",
       "      <td>2</td>\n",
       "      <td>2</td>\n",
       "      <td>4</td>\n",
       "      <td>2</td>\n",
       "      <td>0</td>\n",
       "      <td>1</td>\n",
       "      <td>NaN</td>\n",
       "    </tr>\n",
       "    <tr>\n",
       "      <th>2</th>\n",
       "      <td>6</td>\n",
       "      <td>191.98</td>\n",
       "      <td>0</td>\n",
       "      <td>0.0</td>\n",
       "      <td>38</td>\n",
       "      <td>1266.78</td>\n",
       "      <td>0.004742</td>\n",
       "      <td>0.019551</td>\n",
       "      <td>17.816864</td>\n",
       "      <td>0.0</td>\n",
       "      <td>10</td>\n",
       "      <td>2</td>\n",
       "      <td>3</td>\n",
       "      <td>1</td>\n",
       "      <td>3</td>\n",
       "      <td>0</td>\n",
       "      <td>0</td>\n",
       "      <td>NaN</td>\n",
       "    </tr>\n",
       "    <tr>\n",
       "      <th>3</th>\n",
       "      <td>3</td>\n",
       "      <td>263.68</td>\n",
       "      <td>0</td>\n",
       "      <td>0.0</td>\n",
       "      <td>24</td>\n",
       "      <td>749.14</td>\n",
       "      <td>0.004474</td>\n",
       "      <td>0.024079</td>\n",
       "      <td>14.578547</td>\n",
       "      <td>0.0</td>\n",
       "      <td>7</td>\n",
       "      <td>2</td>\n",
       "      <td>2</td>\n",
       "      <td>2</td>\n",
       "      <td>1</td>\n",
       "      <td>0</td>\n",
       "      <td>1</td>\n",
       "      <td>NaN</td>\n",
       "    </tr>\n",
       "    <tr>\n",
       "      <th>4</th>\n",
       "      <td>0</td>\n",
       "      <td>0.00</td>\n",
       "      <td>0</td>\n",
       "      <td>0.0</td>\n",
       "      <td>3</td>\n",
       "      <td>136.41</td>\n",
       "      <td>0.000000</td>\n",
       "      <td>0.066300</td>\n",
       "      <td>0.000000</td>\n",
       "      <td>0.0</td>\n",
       "      <td>12</td>\n",
       "      <td>1</td>\n",
       "      <td>1</td>\n",
       "      <td>3</td>\n",
       "      <td>3</td>\n",
       "      <td>1</td>\n",
       "      <td>0</td>\n",
       "      <td>NaN</td>\n",
       "    </tr>\n",
       "  </tbody>\n",
       "</table>\n",
       "</div>"
      ],
      "text/plain": [
       "   Adm  AdmDur  Inf  InfDur  Prd   PrdDur     BncRt     ExtRt      PgVal  \\\n",
       "0    0    0.00    0     0.0   18   132.99  0.038211  0.054523   0.000000   \n",
       "1    1    0.00    0     0.0   37  1150.20  0.001245  0.030321   0.000000   \n",
       "2    6  191.98    0     0.0   38  1266.78  0.004742  0.019551  17.816864   \n",
       "3    3  263.68    0     0.0   24   749.14  0.004474  0.024079  14.578547   \n",
       "4    0    0.00    0     0.0    3   136.41  0.000000  0.066300   0.000000   \n",
       "\n",
       "   SpclDay  Mo  OS  Bsr  Rgn  TfcTp  VstTp  Wkd  Rev  \n",
       "0      0.0   4   3    1    1      2      0    1  NaN  \n",
       "1      0.0  11   2    2    4      2      0    1  NaN  \n",
       "2      0.0  10   2    3    1      3      0    0  NaN  \n",
       "3      0.0   7   2    2    2      1      0    1  NaN  \n",
       "4      0.0  12   1    1    3      3      1    0  NaN  "
      ]
     },
     "execution_count": 2,
     "metadata": {},
     "output_type": "execute_result"
    }
   ],
   "source": [
    "df = pd.read_csv('XY_shop.csv')\n",
    "df.head()"
   ]
  },
  {
   "cell_type": "markdown",
   "metadata": {},
   "source": [
    "The first 50k rows are missing the rev label. We separate them from the df then try to predict thelabels after modelling."
   ]
  },
  {
   "cell_type": "code",
   "execution_count": 3,
   "metadata": {},
   "outputs": [
    {
     "data": {
      "text/html": [
       "<div>\n",
       "<style scoped>\n",
       "    .dataframe tbody tr th:only-of-type {\n",
       "        vertical-align: middle;\n",
       "    }\n",
       "\n",
       "    .dataframe tbody tr th {\n",
       "        vertical-align: top;\n",
       "    }\n",
       "\n",
       "    .dataframe thead th {\n",
       "        text-align: right;\n",
       "    }\n",
       "</style>\n",
       "<table border=\"1\" class=\"dataframe\">\n",
       "  <thead>\n",
       "    <tr style=\"text-align: right;\">\n",
       "      <th></th>\n",
       "      <th>Adm</th>\n",
       "      <th>AdmDur</th>\n",
       "      <th>Inf</th>\n",
       "      <th>InfDur</th>\n",
       "      <th>Prd</th>\n",
       "      <th>PrdDur</th>\n",
       "      <th>BncRt</th>\n",
       "      <th>ExtRt</th>\n",
       "      <th>PgVal</th>\n",
       "      <th>SpclDay</th>\n",
       "      <th>Mo</th>\n",
       "      <th>OS</th>\n",
       "      <th>Bsr</th>\n",
       "      <th>Rgn</th>\n",
       "      <th>TfcTp</th>\n",
       "      <th>VstTp</th>\n",
       "      <th>Wkd</th>\n",
       "      <th>Rev</th>\n",
       "    </tr>\n",
       "  </thead>\n",
       "  <tbody>\n",
       "    <tr>\n",
       "      <th>0</th>\n",
       "      <td>0</td>\n",
       "      <td>0.00</td>\n",
       "      <td>0</td>\n",
       "      <td>0.0</td>\n",
       "      <td>18</td>\n",
       "      <td>132.99</td>\n",
       "      <td>0.038211</td>\n",
       "      <td>0.054523</td>\n",
       "      <td>0.000000</td>\n",
       "      <td>0.0</td>\n",
       "      <td>4</td>\n",
       "      <td>3</td>\n",
       "      <td>1</td>\n",
       "      <td>1</td>\n",
       "      <td>2</td>\n",
       "      <td>0</td>\n",
       "      <td>1</td>\n",
       "      <td>NaN</td>\n",
       "    </tr>\n",
       "    <tr>\n",
       "      <th>1</th>\n",
       "      <td>1</td>\n",
       "      <td>0.00</td>\n",
       "      <td>0</td>\n",
       "      <td>0.0</td>\n",
       "      <td>37</td>\n",
       "      <td>1150.20</td>\n",
       "      <td>0.001245</td>\n",
       "      <td>0.030321</td>\n",
       "      <td>0.000000</td>\n",
       "      <td>0.0</td>\n",
       "      <td>11</td>\n",
       "      <td>2</td>\n",
       "      <td>2</td>\n",
       "      <td>4</td>\n",
       "      <td>2</td>\n",
       "      <td>0</td>\n",
       "      <td>1</td>\n",
       "      <td>NaN</td>\n",
       "    </tr>\n",
       "    <tr>\n",
       "      <th>2</th>\n",
       "      <td>6</td>\n",
       "      <td>191.98</td>\n",
       "      <td>0</td>\n",
       "      <td>0.0</td>\n",
       "      <td>38</td>\n",
       "      <td>1266.78</td>\n",
       "      <td>0.004742</td>\n",
       "      <td>0.019551</td>\n",
       "      <td>17.816864</td>\n",
       "      <td>0.0</td>\n",
       "      <td>10</td>\n",
       "      <td>2</td>\n",
       "      <td>3</td>\n",
       "      <td>1</td>\n",
       "      <td>3</td>\n",
       "      <td>0</td>\n",
       "      <td>0</td>\n",
       "      <td>NaN</td>\n",
       "    </tr>\n",
       "    <tr>\n",
       "      <th>3</th>\n",
       "      <td>3</td>\n",
       "      <td>263.68</td>\n",
       "      <td>0</td>\n",
       "      <td>0.0</td>\n",
       "      <td>24</td>\n",
       "      <td>749.14</td>\n",
       "      <td>0.004474</td>\n",
       "      <td>0.024079</td>\n",
       "      <td>14.578547</td>\n",
       "      <td>0.0</td>\n",
       "      <td>7</td>\n",
       "      <td>2</td>\n",
       "      <td>2</td>\n",
       "      <td>2</td>\n",
       "      <td>1</td>\n",
       "      <td>0</td>\n",
       "      <td>1</td>\n",
       "      <td>NaN</td>\n",
       "    </tr>\n",
       "    <tr>\n",
       "      <th>4</th>\n",
       "      <td>0</td>\n",
       "      <td>0.00</td>\n",
       "      <td>0</td>\n",
       "      <td>0.0</td>\n",
       "      <td>3</td>\n",
       "      <td>136.41</td>\n",
       "      <td>0.000000</td>\n",
       "      <td>0.066300</td>\n",
       "      <td>0.000000</td>\n",
       "      <td>0.0</td>\n",
       "      <td>12</td>\n",
       "      <td>1</td>\n",
       "      <td>1</td>\n",
       "      <td>3</td>\n",
       "      <td>3</td>\n",
       "      <td>1</td>\n",
       "      <td>0</td>\n",
       "      <td>NaN</td>\n",
       "    </tr>\n",
       "  </tbody>\n",
       "</table>\n",
       "</div>"
      ],
      "text/plain": [
       "   Adm  AdmDur  Inf  InfDur  Prd   PrdDur     BncRt     ExtRt      PgVal  \\\n",
       "0    0    0.00    0     0.0   18   132.99  0.038211  0.054523   0.000000   \n",
       "1    1    0.00    0     0.0   37  1150.20  0.001245  0.030321   0.000000   \n",
       "2    6  191.98    0     0.0   38  1266.78  0.004742  0.019551  17.816864   \n",
       "3    3  263.68    0     0.0   24   749.14  0.004474  0.024079  14.578547   \n",
       "4    0    0.00    0     0.0    3   136.41  0.000000  0.066300   0.000000   \n",
       "\n",
       "   SpclDay  Mo  OS  Bsr  Rgn  TfcTp  VstTp  Wkd  Rev  \n",
       "0      0.0   4   3    1    1      2      0    1  NaN  \n",
       "1      0.0  11   2    2    4      2      0    1  NaN  \n",
       "2      0.0  10   2    3    1      3      0    0  NaN  \n",
       "3      0.0   7   2    2    2      1      0    1  NaN  \n",
       "4      0.0  12   1    1    3      3      1    0  NaN  "
      ]
     },
     "execution_count": 3,
     "metadata": {},
     "output_type": "execute_result"
    }
   ],
   "source": [
    "final_test_data = df.loc[df.Rev.isna()]\n",
    "final_test_data.head()"
   ]
  },
  {
   "cell_type": "code",
   "execution_count": 4,
   "metadata": {},
   "outputs": [
    {
     "data": {
      "text/html": [
       "<div>\n",
       "<style scoped>\n",
       "    .dataframe tbody tr th:only-of-type {\n",
       "        vertical-align: middle;\n",
       "    }\n",
       "\n",
       "    .dataframe tbody tr th {\n",
       "        vertical-align: top;\n",
       "    }\n",
       "\n",
       "    .dataframe thead th {\n",
       "        text-align: right;\n",
       "    }\n",
       "</style>\n",
       "<table border=\"1\" class=\"dataframe\">\n",
       "  <thead>\n",
       "    <tr style=\"text-align: right;\">\n",
       "      <th></th>\n",
       "      <th>Adm</th>\n",
       "      <th>AdmDur</th>\n",
       "      <th>Inf</th>\n",
       "      <th>InfDur</th>\n",
       "      <th>Prd</th>\n",
       "      <th>PrdDur</th>\n",
       "      <th>BncRt</th>\n",
       "      <th>ExtRt</th>\n",
       "      <th>PgVal</th>\n",
       "      <th>SpclDay</th>\n",
       "      <th>Mo</th>\n",
       "      <th>OS</th>\n",
       "      <th>Bsr</th>\n",
       "      <th>Rgn</th>\n",
       "      <th>TfcTp</th>\n",
       "      <th>VstTp</th>\n",
       "      <th>Wkd</th>\n",
       "      <th>Rev</th>\n",
       "    </tr>\n",
       "  </thead>\n",
       "  <tbody>\n",
       "    <tr>\n",
       "      <th>50000</th>\n",
       "      <td>0</td>\n",
       "      <td>0.00</td>\n",
       "      <td>0</td>\n",
       "      <td>0.0</td>\n",
       "      <td>1</td>\n",
       "      <td>0.00</td>\n",
       "      <td>0.157489</td>\n",
       "      <td>0.115168</td>\n",
       "      <td>0.0</td>\n",
       "      <td>0.0</td>\n",
       "      <td>12</td>\n",
       "      <td>2</td>\n",
       "      <td>2</td>\n",
       "      <td>1</td>\n",
       "      <td>9</td>\n",
       "      <td>0</td>\n",
       "      <td>0</td>\n",
       "      <td>0.0</td>\n",
       "    </tr>\n",
       "    <tr>\n",
       "      <th>50001</th>\n",
       "      <td>7</td>\n",
       "      <td>116.19</td>\n",
       "      <td>0</td>\n",
       "      <td>0.0</td>\n",
       "      <td>79</td>\n",
       "      <td>2683.58</td>\n",
       "      <td>0.000000</td>\n",
       "      <td>0.001910</td>\n",
       "      <td>0.0</td>\n",
       "      <td>0.0</td>\n",
       "      <td>4</td>\n",
       "      <td>2</td>\n",
       "      <td>3</td>\n",
       "      <td>2</td>\n",
       "      <td>2</td>\n",
       "      <td>1</td>\n",
       "      <td>0</td>\n",
       "      <td>0.0</td>\n",
       "    </tr>\n",
       "    <tr>\n",
       "      <th>50002</th>\n",
       "      <td>6</td>\n",
       "      <td>233.07</td>\n",
       "      <td>0</td>\n",
       "      <td>0.0</td>\n",
       "      <td>8</td>\n",
       "      <td>171.08</td>\n",
       "      <td>0.033427</td>\n",
       "      <td>0.062316</td>\n",
       "      <td>0.0</td>\n",
       "      <td>0.0</td>\n",
       "      <td>12</td>\n",
       "      <td>2</td>\n",
       "      <td>2</td>\n",
       "      <td>2</td>\n",
       "      <td>1</td>\n",
       "      <td>0</td>\n",
       "      <td>0</td>\n",
       "      <td>0.0</td>\n",
       "    </tr>\n",
       "    <tr>\n",
       "      <th>50003</th>\n",
       "      <td>0</td>\n",
       "      <td>0.00</td>\n",
       "      <td>0</td>\n",
       "      <td>0.0</td>\n",
       "      <td>5</td>\n",
       "      <td>0.00</td>\n",
       "      <td>0.140943</td>\n",
       "      <td>0.160706</td>\n",
       "      <td>0.0</td>\n",
       "      <td>0.0</td>\n",
       "      <td>6</td>\n",
       "      <td>2</td>\n",
       "      <td>2</td>\n",
       "      <td>3</td>\n",
       "      <td>5</td>\n",
       "      <td>0</td>\n",
       "      <td>0</td>\n",
       "      <td>0.0</td>\n",
       "    </tr>\n",
       "    <tr>\n",
       "      <th>50004</th>\n",
       "      <td>0</td>\n",
       "      <td>0.00</td>\n",
       "      <td>0</td>\n",
       "      <td>0.0</td>\n",
       "      <td>6</td>\n",
       "      <td>112.57</td>\n",
       "      <td>0.035324</td>\n",
       "      <td>0.021440</td>\n",
       "      <td>0.0</td>\n",
       "      <td>0.0</td>\n",
       "      <td>10</td>\n",
       "      <td>2</td>\n",
       "      <td>2</td>\n",
       "      <td>4</td>\n",
       "      <td>7</td>\n",
       "      <td>1</td>\n",
       "      <td>1</td>\n",
       "      <td>0.0</td>\n",
       "    </tr>\n",
       "  </tbody>\n",
       "</table>\n",
       "</div>"
      ],
      "text/plain": [
       "       Adm  AdmDur  Inf  InfDur  Prd   PrdDur     BncRt     ExtRt  PgVal  \\\n",
       "50000    0    0.00    0     0.0    1     0.00  0.157489  0.115168    0.0   \n",
       "50001    7  116.19    0     0.0   79  2683.58  0.000000  0.001910    0.0   \n",
       "50002    6  233.07    0     0.0    8   171.08  0.033427  0.062316    0.0   \n",
       "50003    0    0.00    0     0.0    5     0.00  0.140943  0.160706    0.0   \n",
       "50004    0    0.00    0     0.0    6   112.57  0.035324  0.021440    0.0   \n",
       "\n",
       "       SpclDay  Mo  OS  Bsr  Rgn  TfcTp  VstTp  Wkd  Rev  \n",
       "50000      0.0  12   2    2    1      9      0    0  0.0  \n",
       "50001      0.0   4   2    3    2      2      1    0  0.0  \n",
       "50002      0.0  12   2    2    2      1      0    0  0.0  \n",
       "50003      0.0   6   2    2    3      5      0    0  0.0  \n",
       "50004      0.0  10   2    2    4      7      1    1  0.0  "
      ]
     },
     "execution_count": 4,
     "metadata": {},
     "output_type": "execute_result"
    }
   ],
   "source": [
    "df = df.dropna(subset=['Rev'])\n",
    "df.head()"
   ]
  },
  {
   "cell_type": "code",
   "execution_count": 5,
   "metadata": {},
   "outputs": [
    {
     "data": {
      "text/plain": [
       "87"
      ]
     },
     "execution_count": 5,
     "metadata": {},
     "output_type": "execute_result"
    }
   ],
   "source": [
    "# checking for duplicates\n",
    "df.duplicated().sum()"
   ]
  },
  {
   "cell_type": "code",
   "execution_count": 6,
   "metadata": {},
   "outputs": [],
   "source": [
    "# dropping the duplicates\n",
    "df.drop_duplicates(inplace=True)"
   ]
  },
  {
   "cell_type": "code",
   "execution_count": 7,
   "metadata": {},
   "outputs": [
    {
     "data": {
      "text/plain": [
       "Adm        0\n",
       "AdmDur     0\n",
       "Inf        0\n",
       "InfDur     0\n",
       "Prd        0\n",
       "PrdDur     0\n",
       "BncRt      0\n",
       "ExtRt      0\n",
       "PgVal      0\n",
       "SpclDay    0\n",
       "Mo         0\n",
       "OS         0\n",
       "Bsr        0\n",
       "Rgn        0\n",
       "TfcTp      0\n",
       "VstTp      0\n",
       "Wkd        0\n",
       "Rev        0\n",
       "dtype: int64"
      ]
     },
     "execution_count": 7,
     "metadata": {},
     "output_type": "execute_result"
    }
   ],
   "source": [
    "# checking for missing values\n",
    "df.isna().sum()"
   ]
  },
  {
   "cell_type": "code",
   "execution_count": 8,
   "metadata": {},
   "outputs": [
    {
     "name": "stdout",
     "output_type": "stream",
     "text": [
      "<class 'pandas.core.frame.DataFrame'>\n",
      "Int64Index: 449913 entries, 50000 to 499999\n",
      "Data columns (total 18 columns):\n",
      " #   Column   Non-Null Count   Dtype  \n",
      "---  ------   --------------   -----  \n",
      " 0   Adm      449913 non-null  int64  \n",
      " 1   AdmDur   449913 non-null  float64\n",
      " 2   Inf      449913 non-null  int64  \n",
      " 3   InfDur   449913 non-null  float64\n",
      " 4   Prd      449913 non-null  int64  \n",
      " 5   PrdDur   449913 non-null  float64\n",
      " 6   BncRt    449913 non-null  float64\n",
      " 7   ExtRt    449913 non-null  float64\n",
      " 8   PgVal    449913 non-null  float64\n",
      " 9   SpclDay  449913 non-null  float64\n",
      " 10  Mo       449913 non-null  int64  \n",
      " 11  OS       449913 non-null  int64  \n",
      " 12  Bsr      449913 non-null  int64  \n",
      " 13  Rgn      449913 non-null  int64  \n",
      " 14  TfcTp    449913 non-null  int64  \n",
      " 15  VstTp    449913 non-null  int64  \n",
      " 16  Wkd      449913 non-null  int64  \n",
      " 17  Rev      449913 non-null  float64\n",
      "dtypes: float64(8), int64(10)\n",
      "memory usage: 65.2 MB\n"
     ]
    }
   ],
   "source": [
    "df.info()"
   ]
  },
  {
   "cell_type": "code",
   "execution_count": 9,
   "metadata": {},
   "outputs": [
    {
     "data": {
      "text/plain": [
       "0.0    0.775828\n",
       "1.0    0.224172\n",
       "Name: Rev, dtype: float64"
      ]
     },
     "execution_count": 9,
     "metadata": {},
     "output_type": "execute_result"
    }
   ],
   "source": [
    "df['Rev'].value_counts(normalize=True)"
   ]
  },
  {
   "cell_type": "markdown",
   "metadata": {},
   "source": [
    "# Data analysis"
   ]
  },
  {
   "cell_type": "markdown",
   "metadata": {},
   "source": [
    "### 1. Page visits and Duration"
   ]
  },
  {
   "cell_type": "code",
   "execution_count": 10,
   "metadata": {},
   "outputs": [],
   "source": [
    "# get the average page visits \n",
    "visit_df = df[['Adm', 'Prd', 'Inf']]\n",
    "avg_page_visits = visit_df.mean().astype(int)"
   ]
  },
  {
   "cell_type": "code",
   "execution_count": 11,
   "metadata": {},
   "outputs": [
    {
     "data": {
      "image/png": "[encoded data removed]",
      "text/plain": [
       "<Figure size 576x432 with 1 Axes>"
      ]
     },
     "metadata": {
      "needs_background": "light"
     },
     "output_type": "display_data"
    }
   ],
   "source": [
    "# plotting\n",
    "plt.figure(figsize=(8,6))\n",
    "sns.barplot(\n",
    "    x=avg_page_visits.index,\n",
    "    y=avg_page_visits.values,\n",
    "    color='skyblue'\n",
    ")\n",
    "\n",
    "# labelling bars\n",
    "for i, v in enumerate(avg_page_visits.values):\n",
    "    plt.text(i, v + 0.2, str(v), ha='center')\n",
    "\n",
    "plt.title('Average Page Visits')\n",
    "plt.xticks(labels=['Admin', 'Product', 'Information'], ticks=[0, 1, 2]);\n",
    "plt.ylabel('Average Visits')\n",
    "plt.xlabel('Page');"
   ]
  },
  {
   "cell_type": "markdown",
   "metadata": {},
   "source": [
    "Product pages are highest visited with an average of about 30 visits per session. Administrative pages are least visited while informational pages almost not visited."
   ]
  },
  {
   "cell_type": "code",
   "execution_count": 12,
   "metadata": {},
   "outputs": [],
   "source": [
    "duration_df = df[['AdmDur', 'PrdDur', 'InfDur']]\n",
    "avg_duration = duration_df.mean().astype(int)"
   ]
  },
  {
   "cell_type": "code",
   "execution_count": 13,
   "metadata": {},
   "outputs": [
    {
     "data": {
      "image/png": "[encoded data removed]",
      "text/plain": [
       "<Figure size 576x432 with 1 Axes>"
      ]
     },
     "metadata": {
      "needs_background": "light"
     },
     "output_type": "display_data"
    }
   ],
   "source": [
    "# plotting\n",
    "plt.figure(figsize=(8,6))\n",
    "sns.barplot(\n",
    "    x=avg_duration.index,\n",
    "    y=avg_duration.values,\n",
    "    color='skyblue'\n",
    ")\n",
    "\n",
    "# labelling bars\n",
    "for i, v in enumerate(avg_duration.values):\n",
    "    plt.text(i, v + 0.2, str(v), ha='center')\n",
    "    \n",
    "plt.title('Average Duration')\n",
    "plt.ylabel('Average Duration')\n",
    "plt.xticks(labels=['Admin', 'Product', 'Information'], ticks=[0, 1, 2]);\n",
    "plt.xlabel('Page');"
   ]
  },
  {
   "cell_type": "markdown",
   "metadata": {},
   "source": [
    "Also, as expected, more time is spent on product pages than the other pages"
   ]
  },
  {
   "cell_type": "markdown",
   "metadata": {},
   "source": [
    "### 2. Comparing duration and effect to make purchase"
   ]
  },
  {
   "cell_type": "code",
   "execution_count": 14,
   "metadata": {},
   "outputs": [
    {
     "data": {
      "text/plain": [
       "Rev\n",
       "0.0    1061\n",
       "1.0    1525\n",
       "Name: PrdDur, dtype: int32"
      ]
     },
     "execution_count": 14,
     "metadata": {},
     "output_type": "execute_result"
    }
   ],
   "source": [
    "# grouping to get average duration for customers who made a purchase\n",
    "duration_effect = df.groupby('Rev')['PrdDur'].mean().astype(int)\n",
    "duration_effect"
   ]
  },
  {
   "cell_type": "code",
   "execution_count": 15,
   "metadata": {},
   "outputs": [
    {
     "data": {
      "image/png": "[encoded data removed]",
      "text/plain": [
       "<Figure size 576x432 with 1 Axes>"
      ]
     },
     "metadata": {
      "needs_background": "light"
     },
     "output_type": "display_data"
    }
   ],
   "source": [
    "# plotting\n",
    "plt.figure(figsize=(8,6))\n",
    "sns.barplot(\n",
    "    x=duration_effect.index,\n",
    "    y=duration_effect.values,\n",
    "    color='skyblue'\n",
    ")\n",
    "\n",
    "# labelling bars\n",
    "for i, v in enumerate(duration_effect.values):\n",
    "    plt.text(i, v + 0.2, str(v), ha='center')\n",
    "    \n",
    "plt.title('Average Duration for Customers who made a Purchase')\n",
    "plt.ylabel('Average Duration')\n",
    "plt.xticks(labels=['No Purchase', 'Purchase'], ticks=[0, 1]);"
   ]
  },
  {
   "cell_type": "markdown",
   "metadata": {},
   "source": [
    "As more time is spent on the product page, the more likely a customer makes a purchase"
   ]
  },
  {
   "cell_type": "markdown",
   "metadata": {},
   "source": [
    "# Modelling"
   ]
  },
  {
   "cell_type": "markdown",
   "metadata": {},
   "source": [
    "## Data preprocessing"
   ]
  },
  {
   "cell_type": "markdown",
   "metadata": {},
   "source": [
    "We  first start by spliting the data in train and test sets"
   ]
  },
  {
   "cell_type": "code",
   "execution_count": 16,
   "metadata": {},
   "outputs": [],
   "source": [
    "from sklearn.model_selection import train_test_split\n",
    "\n",
    "X = df.drop(['Rev'], axis=1)\n",
    "y = df['Rev']\n",
    "\n",
    "# splitting the data\n",
    "X_train, X_test, y_train, y_test = train_test_split(X, y, random_state=0)"
   ]
  },
  {
   "cell_type": "code",
   "execution_count": 17,
   "metadata": {},
   "outputs": [],
   "source": [
    "# scaling the data\n",
    "from sklearn.preprocessing import StandardScaler\n",
    "\n",
    "scaler = StandardScaler()\n",
    "\n",
    "X_train_scaled = scaler.fit_transform(X_train)\n",
    "X_test_scaled = scaler.transform(X_test)"
   ]
  },
  {
   "cell_type": "markdown",
   "metadata": {},
   "source": [
    "### 1. Baseline model"
   ]
  },
  {
   "cell_type": "code",
   "execution_count": 18,
   "metadata": {},
   "outputs": [
    {
     "data": {
      "text/plain": [
       "LogisticRegression(solver='liblinear')"
      ]
     },
     "execution_count": 18,
     "metadata": {},
     "output_type": "execute_result"
    }
   ],
   "source": [
    "from sklearn.linear_model import LogisticRegression\n",
    "\n",
    "# fitting a logistic regression model\n",
    "log_model = LogisticRegression(solver='liblinear')\n",
    "log_model.fit(X_train_scaled, y_train)"
   ]
  },
  {
   "cell_type": "code",
   "execution_count": 20,
   "metadata": {},
   "outputs": [
    {
     "data": {
      "text/plain": [
       "0.8050137221171054"
      ]
     },
     "execution_count": 20,
     "metadata": {},
     "output_type": "execute_result"
    }
   ],
   "source": [
    "# model evaluation\n",
    "from sklearn.model_selection import cross_val_score\n",
    "\n",
    "cross_val_score(log_model, X_train, y_train).mean()"
   ]
  },
  {
   "cell_type": "markdown",
   "metadata": {},
   "source": [
    "### 2. RandomForest"
   ]
  },
  {
   "cell_type": "code",
   "execution_count": 24,
   "metadata": {},
   "outputs": [
    {
     "data": {
      "text/plain": [
       "RandomForestClassifier()"
      ]
     },
     "execution_count": 24,
     "metadata": {},
     "output_type": "execute_result"
    }
   ],
   "source": [
    "from sklearn.ensemble import RandomForestClassifier\n",
    "\n",
    "# fitting\n",
    "rf_clf = RandomForestClassifier()\n",
    "rf_clf.fit(X_train_scaled, y_train)"
   ]
  },
  {
   "cell_type": "code",
   "execution_count": 25,
   "metadata": {},
   "outputs": [
    {
     "data": {
      "text/plain": [
       "0.9906293619253371"
      ]
     },
     "execution_count": 25,
     "metadata": {},
     "output_type": "execute_result"
    }
   ],
   "source": [
    "# evaluation\n",
    "rf_clf.score(X_test_scaled, y_test)"
   ]
  },
  {
   "cell_type": "markdown",
   "metadata": {},
   "source": [
    "The randomforest classifier has better performance with about 19% higher accuracy"
   ]
  },
  {
   "cell_type": "markdown",
   "metadata": {},
   "source": [
    "### 3. XGboost"
   ]
  },
  {
   "cell_type": "code",
   "execution_count": 21,
   "metadata": {},
   "outputs": [
    {
     "data": {
      "text/plain": [
       "XGBClassifier(base_score=None, booster=None, callbacks=None,\n",
       "              colsample_bylevel=None, colsample_bynode=None,\n",
       "              colsample_bytree=None, early_stopping_rounds=None,\n",
       "              enable_categorical=False, eval_metric=None, feature_types=None,\n",
       "              gamma=None, gpu_id=None, grow_policy=None, importance_type=None,\n",
       "              interaction_constraints=None, learning_rate=None, max_bin=None,\n",
       "              max_cat_threshold=None, max_cat_to_onehot=None,\n",
       "              max_delta_step=None, max_depth=None, max_leaves=None,\n",
       "              min_child_weight=None, missing=nan, monotone_constraints=None,\n",
       "              n_estimators=100, n_jobs=None, num_parallel_tree=None,\n",
       "              predictor=None, random_state=None, ...)"
      ]
     },
     "execution_count": 21,
     "metadata": {},
     "output_type": "execute_result"
    }
   ],
   "source": [
    "from xgboost import XGBClassifier\n",
    "\n",
    "# fitting\n",
    "xgb_clf = XGBClassifier()\n",
    "xgb_clf.fit(X_train_scaled, y_train)"
   ]
  },
  {
   "cell_type": "code",
   "execution_count": 22,
   "metadata": {},
   "outputs": [
    {
     "data": {
      "text/plain": [
       "0.8944247370620294"
      ]
     },
     "execution_count": 22,
     "metadata": {},
     "output_type": "execute_result"
    }
   ],
   "source": [
    "# evaluation\n",
    "xgb_clf.score(X_test_scaled, y_test)"
   ]
  },
  {
   "cell_type": "markdown",
   "metadata": {},
   "source": [
    "Currently the random forest classifier is the best performing with about 99% accuracy, Therefore we choose it as the final model."
   ]
  },
  {
   "cell_type": "markdown",
   "metadata": {},
   "source": [
    "## Model Tuning and PCA"
   ]
  },
  {
   "cell_type": "code",
   "execution_count": 26,
   "metadata": {},
   "outputs": [
    {
     "data": {
      "text/plain": [
       "0.9808319775246935"
      ]
     },
     "execution_count": 26,
     "metadata": {},
     "output_type": "execute_result"
    }
   ],
   "source": [
    "from sklearn.model_selection import GridSearchCV\n",
    "from sklearn.decomposition import PCA\n",
    "\n",
    "# PCA\n",
    "pca = PCA()\n",
    "X_train_pca = pca.fit_transform(X_train_scaled)\n",
    "X_test_pca = pca.transform(X_test_scaled)\n",
    "\n",
    "final_model = RandomForestClassifier()\n",
    "\n",
    "# fitting\n",
    "final_model.fit(X_train_pca, y_train)\n",
    "# evaluation\n",
    "final_model.score(X_test_pca, y_test)\n"
   ]
  },
  {
   "cell_type": "code",
   "execution_count": 28,
   "metadata": {},
   "outputs": [
    {
     "data": {
      "text/plain": [
       "1.0"
      ]
     },
     "execution_count": 28,
     "metadata": {},
     "output_type": "execute_result"
    }
   ],
   "source": [
    "pca.explained_variance_ratio_.sum()"
   ]
  },
  {
   "cell_type": "markdown",
   "metadata": {},
   "source": [
    "In this case pca has no major impact in performance of the model and infact lowers the accuracy hence its not benneficial to use it."
   ]
  },
  {
   "cell_type": "code",
   "execution_count": 29,
   "metadata": {},
   "outputs": [],
   "source": [
    "# hyperparameter tuning\n",
    "param_grid = {\n",
    "    'n_estimators': [100, 200, 300],\n",
    "    'max_depth': [10, 20, 30]\n",
    "}\n",
    "\n",
    "grid_search = GridSearchCV(final_model, param_grid, cv=2)"
   ]
  },
  {
   "cell_type": "code",
   "execution_count": 30,
   "metadata": {},
   "outputs": [
    {
     "data": {
      "text/plain": [
       "GridSearchCV(cv=2, estimator=RandomForestClassifier(),\n",
       "             param_grid={'max_depth': [10, 20, 30],\n",
       "                         'n_estimators': [100, 200, 300]})"
      ]
     },
     "execution_count": 30,
     "metadata": {},
     "output_type": "execute_result"
    }
   ],
   "source": [
    "# fitting\n",
    "grid_search.fit(X_train_scaled, y_train)"
   ]
  },
  {
   "cell_type": "code",
   "execution_count": 31,
   "metadata": {},
   "outputs": [
    {
     "data": {
      "text/plain": [
       "{'max_depth': 30, 'n_estimators': 200}"
      ]
     },
     "execution_count": 31,
     "metadata": {},
     "output_type": "execute_result"
    }
   ],
   "source": [
    "grid_search.best_params_"
   ]
  },
  {
   "cell_type": "markdown",
   "metadata": {},
   "source": [
    "Now we choose this parameters for our final Random forest classifier"
   ]
  },
  {
   "cell_type": "code",
   "execution_count": 32,
   "metadata": {},
   "outputs": [
    {
     "data": {
      "text/plain": [
       "RandomForestClassifier(max_depth=30, n_estimators=200)"
      ]
     },
     "execution_count": 32,
     "metadata": {},
     "output_type": "execute_result"
    }
   ],
   "source": [
    "final_model = RandomForestClassifier(n_estimators=200, max_depth=30)\n",
    "\n",
    "# fitting\n",
    "final_model.fit(X_train_scaled, y_train)"
   ]
  },
  {
   "cell_type": "markdown",
   "metadata": {},
   "source": [
    "# Final Model Evaluation"
   ]
  },
  {
   "cell_type": "code",
   "execution_count": 37,
   "metadata": {},
   "outputs": [],
   "source": [
    "from sklearn.metrics import classification_report\n",
    "from sklearn.metrics import plot_confusion_matrix"
   ]
  },
  {
   "cell_type": "code",
   "execution_count": 34,
   "metadata": {},
   "outputs": [],
   "source": [
    "final_model_preds = final_model.predict(X_test_scaled)"
   ]
  },
  {
   "cell_type": "code",
   "execution_count": 36,
   "metadata": {},
   "outputs": [
    {
     "name": "stdout",
     "output_type": "stream",
     "text": [
      "              precision    recall  f1-score   support\n",
      "\n",
      "         0.0       0.99      1.00      0.99     87089\n",
      "         1.0       0.99      0.96      0.98     25390\n",
      "\n",
      "    accuracy                           0.99    112479\n",
      "   macro avg       0.99      0.98      0.99    112479\n",
      "weighted avg       0.99      0.99      0.99    112479\n",
      "\n"
     ]
    }
   ],
   "source": [
    "print(classification_report(y_test, final_model_preds))"
   ]
  },
  {
   "cell_type": "code",
   "execution_count": 52,
   "metadata": {},
   "outputs": [
    {
     "data": {
      "image/png": "[encoded data removed]",
      "text/plain": [
       "<Figure size 432x288 with 2 Axes>"
      ]
     },
     "metadata": {
      "needs_background": "light"
     },
     "output_type": "display_data"
    }
   ],
   "source": [
    "\n",
    "\n",
    "plot_confusion_matrix(final_model, X_test_scaled, y_test);"
   ]
  },
  {
   "cell_type": "markdown",
   "metadata": {},
   "source": [
    "From the results, our model performs really well.\n",
    "- `Accuracy = 99%`: this implies that the model correctly identifies if a customer has purchase intent or not 99% of the times.\n",
    "- `Precision = 99%`: Out of all the Predictions that a customer has purchase intent, 99% are correct.\n",
    "- `Recall = 96%`: This means that our model correctly identifies 96% of all the customers who actually have purchase intent."
   ]
  },
  {
   "cell_type": "markdown",
   "metadata": {},
   "source": [
    "# Conclusion\n",
    "Our model meets all the success criteria marking a success to the modelling process."
   ]
  },
  {
   "cell_type": "markdown",
   "metadata": {},
   "source": [
    "# Predicting the first 50k rows"
   ]
  },
  {
   "cell_type": "code",
   "execution_count": 45,
   "metadata": {},
   "outputs": [],
   "source": [
    "# preprocessing\n",
    "final_test_data_scaled = scaler.transform(final_test_data.drop(['Rev'], axis=1))\n",
    "preds = final_model.predict(final_test_data_scaled)"
   ]
  },
  {
   "cell_type": "code",
   "execution_count": 48,
   "metadata": {},
   "outputs": [
    {
     "data": {
      "text/html": [
       "<div>\n",
       "<style scoped>\n",
       "    .dataframe tbody tr th:only-of-type {\n",
       "        vertical-align: middle;\n",
       "    }\n",
       "\n",
       "    .dataframe tbody tr th {\n",
       "        vertical-align: top;\n",
       "    }\n",
       "\n",
       "    .dataframe thead th {\n",
       "        text-align: right;\n",
       "    }\n",
       "</style>\n",
       "<table border=\"1\" class=\"dataframe\">\n",
       "  <thead>\n",
       "    <tr style=\"text-align: right;\">\n",
       "      <th></th>\n",
       "      <th>Rev</th>\n",
       "    </tr>\n",
       "  </thead>\n",
       "  <tbody>\n",
       "    <tr>\n",
       "      <th>0</th>\n",
       "      <td>0.0</td>\n",
       "    </tr>\n",
       "    <tr>\n",
       "      <th>1</th>\n",
       "      <td>1.0</td>\n",
       "    </tr>\n",
       "    <tr>\n",
       "      <th>2</th>\n",
       "      <td>0.0</td>\n",
       "    </tr>\n",
       "    <tr>\n",
       "      <th>3</th>\n",
       "      <td>0.0</td>\n",
       "    </tr>\n",
       "    <tr>\n",
       "      <th>4</th>\n",
       "      <td>0.0</td>\n",
       "    </tr>\n",
       "    <tr>\n",
       "      <th>...</th>\n",
       "      <td>...</td>\n",
       "    </tr>\n",
       "    <tr>\n",
       "      <th>49995</th>\n",
       "      <td>1.0</td>\n",
       "    </tr>\n",
       "    <tr>\n",
       "      <th>49996</th>\n",
       "      <td>0.0</td>\n",
       "    </tr>\n",
       "    <tr>\n",
       "      <th>49997</th>\n",
       "      <td>1.0</td>\n",
       "    </tr>\n",
       "    <tr>\n",
       "      <th>49998</th>\n",
       "      <td>1.0</td>\n",
       "    </tr>\n",
       "    <tr>\n",
       "      <th>49999</th>\n",
       "      <td>0.0</td>\n",
       "    </tr>\n",
       "  </tbody>\n",
       "</table>\n",
       "<p>50000 rows × 1 columns</p>\n",
       "</div>"
      ],
      "text/plain": [
       "       Rev\n",
       "0      0.0\n",
       "1      1.0\n",
       "2      0.0\n",
       "3      0.0\n",
       "4      0.0\n",
       "...    ...\n",
       "49995  1.0\n",
       "49996  0.0\n",
       "49997  1.0\n",
       "49998  1.0\n",
       "49999  0.0\n",
       "\n",
       "[50000 rows x 1 columns]"
      ]
     },
     "execution_count": 48,
     "metadata": {},
     "output_type": "execute_result"
    }
   ],
   "source": [
    "preds = pd.DataFrame(preds, columns=['Rev'])\n",
    "preds"
   ]
  },
  {
   "cell_type": "code",
   "execution_count": 50,
   "metadata": {},
   "outputs": [
    {
     "data": {
      "text/html": [
       "<div>\n",
       "<style scoped>\n",
       "    .dataframe tbody tr th:only-of-type {\n",
       "        vertical-align: middle;\n",
       "    }\n",
       "\n",
       "    .dataframe tbody tr th {\n",
       "        vertical-align: top;\n",
       "    }\n",
       "\n",
       "    .dataframe thead th {\n",
       "        text-align: right;\n",
       "    }\n",
       "</style>\n",
       "<table border=\"1\" class=\"dataframe\">\n",
       "  <thead>\n",
       "    <tr style=\"text-align: right;\">\n",
       "      <th></th>\n",
       "      <th>id</th>\n",
       "      <th>Rev</th>\n",
       "    </tr>\n",
       "  </thead>\n",
       "  <tbody>\n",
       "    <tr>\n",
       "      <th>0</th>\n",
       "      <td>1</td>\n",
       "      <td>0.0</td>\n",
       "    </tr>\n",
       "    <tr>\n",
       "      <th>1</th>\n",
       "      <td>2</td>\n",
       "      <td>1.0</td>\n",
       "    </tr>\n",
       "    <tr>\n",
       "      <th>2</th>\n",
       "      <td>3</td>\n",
       "      <td>0.0</td>\n",
       "    </tr>\n",
       "    <tr>\n",
       "      <th>3</th>\n",
       "      <td>4</td>\n",
       "      <td>0.0</td>\n",
       "    </tr>\n",
       "    <tr>\n",
       "      <th>4</th>\n",
       "      <td>5</td>\n",
       "      <td>0.0</td>\n",
       "    </tr>\n",
       "  </tbody>\n",
       "</table>\n",
       "</div>"
      ],
      "text/plain": [
       "   id  Rev\n",
       "0   1  0.0\n",
       "1   2  1.0\n",
       "2   3  0.0\n",
       "3   4  0.0\n",
       "4   5  0.0"
      ]
     },
     "execution_count": 50,
     "metadata": {},
     "output_type": "execute_result"
    }
   ],
   "source": [
    "preds['id'] = preds.index + 1\n",
    "preds = preds[['id', 'Rev']]\n",
    "preds.head()"
   ]
  },
  {
   "cell_type": "code",
   "execution_count": 51,
   "metadata": {},
   "outputs": [],
   "source": [
    "# write to csv\n",
    "preds.to_csv('predictions.csv', index=False)"
   ]
  },
  {
   "cell_type": "code",
   "execution_count": null,
   "metadata": {},
   "outputs": [],
   "source": []
  }
 ],
 "metadata": {
  "kernelspec": {
   "display_name": "learn-env",
   "language": "python",
   "name": "python3"
  },
  "language_info": {
   "codemirror_mode": {
    "name": "ipython",
    "version": 3
   },
   "file_extension": ".py",
   "mimetype": "text/x-python",
   "name": "python",
   "nbconvert_exporter": "python",
   "pygments_lexer": "ipython3",
   "version": "3.8.5"
  }
 },
 "nbformat": 4,
 "nbformat_minor": 2
}
